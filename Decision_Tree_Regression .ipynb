{
 "cells": [
  {
   "cell_type": "markdown",
   "id": "7a7d0a3f",
   "metadata": {},
   "source": [
    "# Decision Tree Regression"
   ]
  },
  {
   "cell_type": "markdown",
   "id": "17b12cd7",
   "metadata": {},
   "source": [
    "## Importing The Library"
   ]
  },
  {
   "cell_type": "code",
   "execution_count": 1,
   "id": "ac39cc1e",
   "metadata": {},
   "outputs": [],
   "source": [
    "import numpy as np\n",
    "import pandas as pd\n",
    "import matplotlib.pyplot as plt\n",
    "import seaborn as sns\n",
    "import sklearn as sk"
   ]
  },
  {
   "cell_type": "markdown",
   "id": "c62b7df1",
   "metadata": {},
   "source": [
    "## Importing The DataSet"
   ]
  },
  {
   "cell_type": "code",
   "execution_count": 2,
   "id": "3847641e",
   "metadata": {},
   "outputs": [
    {
     "data": {
      "text/html": [
       "<div>\n",
       "<style scoped>\n",
       "    .dataframe tbody tr th:only-of-type {\n",
       "        vertical-align: middle;\n",
       "    }\n",
       "\n",
       "    .dataframe tbody tr th {\n",
       "        vertical-align: top;\n",
       "    }\n",
       "\n",
       "    .dataframe thead th {\n",
       "        text-align: right;\n",
       "    }\n",
       "</style>\n",
       "<table border=\"1\" class=\"dataframe\">\n",
       "  <thead>\n",
       "    <tr style=\"text-align: right;\">\n",
       "      <th></th>\n",
       "      <th>age</th>\n",
       "      <th>sex</th>\n",
       "      <th>bmi</th>\n",
       "      <th>children</th>\n",
       "      <th>smoker</th>\n",
       "      <th>region</th>\n",
       "      <th>charges</th>\n",
       "    </tr>\n",
       "  </thead>\n",
       "  <tbody>\n",
       "    <tr>\n",
       "      <th>0</th>\n",
       "      <td>19</td>\n",
       "      <td>female</td>\n",
       "      <td>27.900</td>\n",
       "      <td>0</td>\n",
       "      <td>yes</td>\n",
       "      <td>southwest</td>\n",
       "      <td>16884.92400</td>\n",
       "    </tr>\n",
       "    <tr>\n",
       "      <th>1</th>\n",
       "      <td>18</td>\n",
       "      <td>male</td>\n",
       "      <td>33.770</td>\n",
       "      <td>1</td>\n",
       "      <td>no</td>\n",
       "      <td>southeast</td>\n",
       "      <td>1725.55230</td>\n",
       "    </tr>\n",
       "    <tr>\n",
       "      <th>2</th>\n",
       "      <td>28</td>\n",
       "      <td>male</td>\n",
       "      <td>33.000</td>\n",
       "      <td>3</td>\n",
       "      <td>no</td>\n",
       "      <td>southeast</td>\n",
       "      <td>4449.46200</td>\n",
       "    </tr>\n",
       "    <tr>\n",
       "      <th>3</th>\n",
       "      <td>33</td>\n",
       "      <td>male</td>\n",
       "      <td>22.705</td>\n",
       "      <td>0</td>\n",
       "      <td>no</td>\n",
       "      <td>northwest</td>\n",
       "      <td>21984.47061</td>\n",
       "    </tr>\n",
       "    <tr>\n",
       "      <th>4</th>\n",
       "      <td>32</td>\n",
       "      <td>male</td>\n",
       "      <td>28.880</td>\n",
       "      <td>0</td>\n",
       "      <td>no</td>\n",
       "      <td>northwest</td>\n",
       "      <td>3866.85520</td>\n",
       "    </tr>\n",
       "  </tbody>\n",
       "</table>\n",
       "</div>"
      ],
      "text/plain": [
       "   age     sex     bmi  children smoker     region      charges\n",
       "0   19  female  27.900         0    yes  southwest  16884.92400\n",
       "1   18    male  33.770         1     no  southeast   1725.55230\n",
       "2   28    male  33.000         3     no  southeast   4449.46200\n",
       "3   33    male  22.705         0     no  northwest  21984.47061\n",
       "4   32    male  28.880         0     no  northwest   3866.85520"
      ]
     },
     "execution_count": 2,
     "metadata": {},
     "output_type": "execute_result"
    }
   ],
   "source": [
    "data = pd.read_csv(\"insurance.csv\")\n",
    "data.head()"
   ]
  },
  {
   "cell_type": "markdown",
   "id": "f18f2638",
   "metadata": {},
   "source": [
    "## Encoding categorical data"
   ]
  },
  {
   "cell_type": "code",
   "execution_count": 3,
   "id": "eb5ddb48",
   "metadata": {},
   "outputs": [
    {
     "data": {
      "text/html": [
       "<div>\n",
       "<style scoped>\n",
       "    .dataframe tbody tr th:only-of-type {\n",
       "        vertical-align: middle;\n",
       "    }\n",
       "\n",
       "    .dataframe tbody tr th {\n",
       "        vertical-align: top;\n",
       "    }\n",
       "\n",
       "    .dataframe thead th {\n",
       "        text-align: right;\n",
       "    }\n",
       "</style>\n",
       "<table border=\"1\" class=\"dataframe\">\n",
       "  <thead>\n",
       "    <tr style=\"text-align: right;\">\n",
       "      <th></th>\n",
       "      <th>sex_female</th>\n",
       "      <th>sex_male</th>\n",
       "      <th>smoker_no</th>\n",
       "      <th>smoker_yes</th>\n",
       "      <th>region_northeast</th>\n",
       "      <th>region_northwest</th>\n",
       "      <th>region_southeast</th>\n",
       "      <th>region_southwest</th>\n",
       "      <th>age</th>\n",
       "      <th>bmi</th>\n",
       "      <th>children</th>\n",
       "      <th>charges</th>\n",
       "    </tr>\n",
       "  </thead>\n",
       "  <tbody>\n",
       "    <tr>\n",
       "      <th>0</th>\n",
       "      <td>1</td>\n",
       "      <td>0</td>\n",
       "      <td>0</td>\n",
       "      <td>1</td>\n",
       "      <td>0</td>\n",
       "      <td>0</td>\n",
       "      <td>0</td>\n",
       "      <td>1</td>\n",
       "      <td>19</td>\n",
       "      <td>27.900</td>\n",
       "      <td>0</td>\n",
       "      <td>16884.92400</td>\n",
       "    </tr>\n",
       "    <tr>\n",
       "      <th>1</th>\n",
       "      <td>0</td>\n",
       "      <td>1</td>\n",
       "      <td>1</td>\n",
       "      <td>0</td>\n",
       "      <td>0</td>\n",
       "      <td>0</td>\n",
       "      <td>1</td>\n",
       "      <td>0</td>\n",
       "      <td>18</td>\n",
       "      <td>33.770</td>\n",
       "      <td>1</td>\n",
       "      <td>1725.55230</td>\n",
       "    </tr>\n",
       "    <tr>\n",
       "      <th>2</th>\n",
       "      <td>0</td>\n",
       "      <td>1</td>\n",
       "      <td>1</td>\n",
       "      <td>0</td>\n",
       "      <td>0</td>\n",
       "      <td>0</td>\n",
       "      <td>1</td>\n",
       "      <td>0</td>\n",
       "      <td>28</td>\n",
       "      <td>33.000</td>\n",
       "      <td>3</td>\n",
       "      <td>4449.46200</td>\n",
       "    </tr>\n",
       "    <tr>\n",
       "      <th>3</th>\n",
       "      <td>0</td>\n",
       "      <td>1</td>\n",
       "      <td>1</td>\n",
       "      <td>0</td>\n",
       "      <td>0</td>\n",
       "      <td>1</td>\n",
       "      <td>0</td>\n",
       "      <td>0</td>\n",
       "      <td>33</td>\n",
       "      <td>22.705</td>\n",
       "      <td>0</td>\n",
       "      <td>21984.47061</td>\n",
       "    </tr>\n",
       "    <tr>\n",
       "      <th>4</th>\n",
       "      <td>0</td>\n",
       "      <td>1</td>\n",
       "      <td>1</td>\n",
       "      <td>0</td>\n",
       "      <td>0</td>\n",
       "      <td>1</td>\n",
       "      <td>0</td>\n",
       "      <td>0</td>\n",
       "      <td>32</td>\n",
       "      <td>28.880</td>\n",
       "      <td>0</td>\n",
       "      <td>3866.85520</td>\n",
       "    </tr>\n",
       "  </tbody>\n",
       "</table>\n",
       "</div>"
      ],
      "text/plain": [
       "   sex_female  sex_male  smoker_no  smoker_yes  region_northeast  \\\n",
       "0           1         0          0           1                 0   \n",
       "1           0         1          1           0                 0   \n",
       "2           0         1          1           0                 0   \n",
       "3           0         1          1           0                 0   \n",
       "4           0         1          1           0                 0   \n",
       "\n",
       "   region_northwest  region_southeast  region_southwest  age     bmi  \\\n",
       "0                 0                 0                 1   19  27.900   \n",
       "1                 0                 1                 0   18  33.770   \n",
       "2                 0                 1                 0   28  33.000   \n",
       "3                 1                 0                 0   33  22.705   \n",
       "4                 1                 0                 0   32  28.880   \n",
       "\n",
       "   children      charges  \n",
       "0         0  16884.92400  \n",
       "1         1   1725.55230  \n",
       "2         3   4449.46200  \n",
       "3         0  21984.47061  \n",
       "4         0   3866.85520  "
      ]
     },
     "execution_count": 3,
     "metadata": {},
     "output_type": "execute_result"
    }
   ],
   "source": [
    "obj_column = list(data.select_dtypes(['object']).columns)\n",
    "data_encoded = pd.get_dummies(data=data,columns=obj_column)\n",
    "data_encoded = data_encoded[[\"sex_female\",'sex_male','smoker_no','smoker_yes',\\\n",
    "                             'region_northeast','region_northwest','region_southeast',\\\n",
    "                             'region_southwest','age','bmi','children','charges']]\n",
    "data_encoded.head()"
   ]
  },
  {
   "cell_type": "code",
   "execution_count": 5,
   "id": "a5e234ff",
   "metadata": {},
   "outputs": [],
   "source": [
    "x = data_encoded.iloc[:, :-1].values\n",
    "y = data_encoded.iloc[:, -1].values"
   ]
  },
  {
   "cell_type": "markdown",
   "id": "ee94f04f",
   "metadata": {},
   "source": [
    "## Splitting the dataset into the Training set and Test set"
   ]
  },
  {
   "cell_type": "code",
   "execution_count": 6,
   "id": "8c391e43",
   "metadata": {},
   "outputs": [],
   "source": [
    "from sklearn.model_selection import train_test_split\n",
    "x_train, x_test, y_train, y_test = train_test_split(x, y, test_size = 0.1, random_state = 0)"
   ]
  },
  {
   "cell_type": "markdown",
   "id": "1cbb093e",
   "metadata": {},
   "source": [
    "## Training the Decision Tree Regression model on the Training set"
   ]
  },
  {
   "cell_type": "code",
   "execution_count": 7,
   "id": "cadddf8b",
   "metadata": {},
   "outputs": [
    {
     "data": {
      "text/plain": [
       "DecisionTreeRegressor()"
      ]
     },
     "execution_count": 7,
     "metadata": {},
     "output_type": "execute_result"
    }
   ],
   "source": [
    "from sklearn.tree import DecisionTreeRegressor\n",
    "regressor = DecisionTreeRegressor()\n",
    "regressor.fit(x_train,y_train)"
   ]
  },
  {
   "cell_type": "markdown",
   "id": "dfe5877c",
   "metadata": {},
   "source": [
    "## Predicting the Test set results"
   ]
  },
  {
   "cell_type": "code",
   "execution_count": 8,
   "id": "a7f84400",
   "metadata": {},
   "outputs": [
    {
     "name": "stdout",
     "output_type": "stream",
     "text": [
      "[[10797.34  9724.53]\n",
      " [ 8871.15  8547.69]\n",
      " [42983.46 45702.02]\n",
      " [12574.05 12950.07]\n",
      " [ 9566.99  9644.25]\n",
      " [21984.47  4500.34]\n",
      " [ 2196.47  2198.19]\n",
      " [10848.13 11436.74]\n",
      " [ 7281.51  7537.16]\n",
      " [ 6128.8   5425.02]\n",
      " [27375.9   6753.04]\n",
      " [ 8932.08 10493.95]\n",
      " [ 7345.08  7337.75]\n",
      " [ 4571.41  4185.1 ]\n",
      " [18246.5  18310.74]\n",
      " [10560.49 10702.64]\n",
      " [12323.94 12523.6 ]\n",
      " [ 5594.85  3490.55]\n",
      " [ 6548.2   6457.84]\n",
      " [34254.05 33475.82]\n",
      " [24667.42 23967.38]\n",
      " [12269.69 12643.38]\n",
      " [10797.34 23045.57]\n",
      " [24520.26 23065.42]\n",
      " [ 1391.53  1674.63]\n",
      " [ 6551.75  4667.61]\n",
      " [ 2680.95  3732.63]\n",
      " [ 6600.36  7682.67]\n",
      " [ 3757.84  3756.62]\n",
      " [ 8027.97  8413.46]\n",
      " [ 7201.7   8059.68]\n",
      " [47896.79 48970.25]\n",
      " [21797.   12979.36]\n",
      " [10713.64 20630.28]\n",
      " [15359.1  14571.89]\n",
      " [ 3943.6   4137.52]\n",
      " [ 8240.59  8347.16]\n",
      " [37165.16 51194.56]\n",
      " [39983.43 40003.33]\n",
      " [23082.96  1880.49]\n",
      " [21984.47  5458.05]\n",
      " [ 3062.51  2867.12]\n",
      " [19539.24 20149.32]\n",
      " [44400.41 47496.49]\n",
      " [36307.8  36149.48]\n",
      " [ 3579.83 26018.95]\n",
      " [10560.49 19749.38]\n",
      " [ 7046.72  6940.91]\n",
      " [ 5354.07  4718.2 ]\n",
      " [27117.99 22192.44]\n",
      " [ 3046.06  2899.49]\n",
      " [24059.68 18838.7 ]\n",
      " [37829.72 23568.27]\n",
      " [60021.4  46255.11]\n",
      " [11856.41 24227.34]\n",
      " [19673.34  3268.85]\n",
      " [ 2498.41  2322.62]\n",
      " [ 8932.08  8827.21]\n",
      " [ 9788.87 14478.33]\n",
      " [14349.85 13112.6 ]\n",
      " [ 1842.52  1253.94]\n",
      " [46130.53 46718.16]\n",
      " [14001.29 13919.82]\n",
      " [ 8116.68  9630.4 ]\n",
      " [26392.26 10736.87]\n",
      " [ 9872.7   9880.07]\n",
      " [33900.65 32548.34]\n",
      " [43943.88 38746.36]\n",
      " [ 3861.21  3180.51]\n",
      " [15828.82  8162.72]\n",
      " [12233.83 13041.92]\n",
      " [12224.35 11554.22]\n",
      " [19199.94 16232.85]\n",
      " [13887.2  13887.97]\n",
      " [13204.29 13012.21]\n",
      " [12815.44 13217.09]\n",
      " [ 7623.52  7147.1 ]\n",
      " [ 7147.47  7731.43]\n",
      " [19539.24 20296.86]\n",
      " [48824.45 47403.88]\n",
      " [11658.12 11658.38]\n",
      " [63770.43 45863.21]\n",
      " [ 2643.27  2055.32]\n",
      " [ 7445.92  7441.05]\n",
      " [41661.6  41034.22]\n",
      " [16577.78 18972.49]\n",
      " [ 3292.53  3410.32]\n",
      " [ 2523.17  2699.57]\n",
      " [13224.69 12333.83]\n",
      " [36197.7  36837.47]\n",
      " [ 6551.75  6334.34]\n",
      " [10704.47 10214.64]\n",
      " [ 3213.62 17878.9 ]\n",
      " [ 8516.83  8515.76]\n",
      " [ 3935.18  4518.83]\n",
      " [18903.49  5148.55]\n",
      " [41999.52 42303.69]\n",
      " [62592.87 38998.55]\n",
      " [ 6128.8   5327.4 ]\n",
      " [10601.41 10602.39]\n",
      " [ 1826.84  1824.29]\n",
      " [ 4462.72  5377.46]\n",
      " [ 5138.26  4349.46]\n",
      " [36950.26 37742.58]\n",
      " [22144.03 32787.46]\n",
      " [ 3176.29  3353.47]\n",
      " [12029.29 10577.09]\n",
      " [ 3176.82  3556.92]\n",
      " [12430.95 11944.59]\n",
      " [45710.21 52590.83]\n",
      " [12479.71 12475.35]\n",
      " [ 4463.21  4266.17]\n",
      " [ 8930.93  9249.5 ]\n",
      " [34254.05 33732.69]\n",
      " [47269.85 48675.52]\n",
      " [ 7077.19  7729.65]\n",
      " [ 1967.02  1964.78]\n",
      " [ 8932.08  8444.47]\n",
      " [27941.29 12347.17]\n",
      " [ 9500.57  9301.89]\n",
      " [42211.14 42124.52]\n",
      " [ 9863.47  9991.04]\n",
      " [14901.52 14319.03]\n",
      " [ 6551.75  5428.73]\n",
      " [ 7624.63  7626.99]\n",
      " [ 4719.74  4906.41]\n",
      " [38245.59 23401.31]\n",
      " [35069.37 21098.55]\n",
      " [48824.45 48173.36]\n",
      " [ 1646.43  1917.32]\n",
      " [ 7633.72  8219.2 ]\n",
      " [ 1136.4   1725.55]\n",
      " [ 5974.38  5976.83]\n",
      " [ 8688.86  9361.33]]\n"
     ]
    }
   ],
   "source": [
    "y_pred = regressor.predict(x_test)\n",
    "np.set_printoptions(precision=2)\n",
    "print(np.concatenate((y_pred.reshape(len(y_pred),1), y_test.reshape(len(y_test),1)),1))"
   ]
  },
  {
   "cell_type": "markdown",
   "id": "a36551cf",
   "metadata": {},
   "source": [
    "## Evaluating the Model Performance"
   ]
  },
  {
   "cell_type": "code",
   "execution_count": 9,
   "id": "d3b9b7d7",
   "metadata": {},
   "outputs": [
    {
     "data": {
      "text/plain": [
       "0.7704518851887988"
      ]
     },
     "execution_count": 9,
     "metadata": {},
     "output_type": "execute_result"
    }
   ],
   "source": [
    "from sklearn.metrics import r2_score\n",
    "r2_score(y_test,y_pred)"
   ]
  },
  {
   "cell_type": "code",
   "execution_count": 15,
   "id": "03be325e",
   "metadata": {},
   "outputs": [
    {
     "data": {
      "text/plain": [
       "array([17085.27])"
      ]
     },
     "execution_count": 15,
     "metadata": {},
     "output_type": "execute_result"
    }
   ],
   "source": [
    "regressor.predict([[1,0,0,1,1,0,1,1,25,26,3]])"
   ]
  }
 ],
 "metadata": {
  "kernelspec": {
   "display_name": "Python 3 (ipykernel)",
   "language": "python",
   "name": "python3"
  },
  "language_info": {
   "codemirror_mode": {
    "name": "ipython",
    "version": 3
   },
   "file_extension": ".py",
   "mimetype": "text/x-python",
   "name": "python",
   "nbconvert_exporter": "python",
   "pygments_lexer": "ipython3",
   "version": "3.8.12"
  }
 },
 "nbformat": 4,
 "nbformat_minor": 5
}
