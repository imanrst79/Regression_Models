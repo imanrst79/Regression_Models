{
 "cells": [
  {
   "cell_type": "markdown",
   "id": "7a7d0a3f",
   "metadata": {},
   "source": [
    "# Simple Linear Regression"
   ]
  },
  {
   "cell_type": "markdown",
   "id": "17b12cd7",
   "metadata": {},
   "source": [
    "## Importing The Library"
   ]
  },
  {
   "cell_type": "code",
   "execution_count": 1,
   "id": "ac39cc1e",
   "metadata": {},
   "outputs": [],
   "source": [
    "import numpy as np\n",
    "import pandas as pd\n",
    "import matplotlib.pyplot as plt\n",
    "import seaborn as sns\n",
    "import sklearn as sk"
   ]
  },
  {
   "cell_type": "markdown",
   "id": "c62b7df1",
   "metadata": {},
   "source": [
    "## Importing The DataSet"
   ]
  },
  {
   "cell_type": "code",
   "execution_count": 2,
   "id": "3847641e",
   "metadata": {},
   "outputs": [
    {
     "data": {
      "text/html": [
       "<div>\n",
       "<style scoped>\n",
       "    .dataframe tbody tr th:only-of-type {\n",
       "        vertical-align: middle;\n",
       "    }\n",
       "\n",
       "    .dataframe tbody tr th {\n",
       "        vertical-align: top;\n",
       "    }\n",
       "\n",
       "    .dataframe thead th {\n",
       "        text-align: right;\n",
       "    }\n",
       "</style>\n",
       "<table border=\"1\" class=\"dataframe\">\n",
       "  <thead>\n",
       "    <tr style=\"text-align: right;\">\n",
       "      <th></th>\n",
       "      <th>age</th>\n",
       "      <th>sex</th>\n",
       "      <th>bmi</th>\n",
       "      <th>children</th>\n",
       "      <th>smoker</th>\n",
       "      <th>region</th>\n",
       "      <th>charges</th>\n",
       "    </tr>\n",
       "  </thead>\n",
       "  <tbody>\n",
       "    <tr>\n",
       "      <th>0</th>\n",
       "      <td>19</td>\n",
       "      <td>female</td>\n",
       "      <td>27.900</td>\n",
       "      <td>0</td>\n",
       "      <td>yes</td>\n",
       "      <td>southwest</td>\n",
       "      <td>16884.92400</td>\n",
       "    </tr>\n",
       "    <tr>\n",
       "      <th>1</th>\n",
       "      <td>18</td>\n",
       "      <td>male</td>\n",
       "      <td>33.770</td>\n",
       "      <td>1</td>\n",
       "      <td>no</td>\n",
       "      <td>southeast</td>\n",
       "      <td>1725.55230</td>\n",
       "    </tr>\n",
       "    <tr>\n",
       "      <th>2</th>\n",
       "      <td>28</td>\n",
       "      <td>male</td>\n",
       "      <td>33.000</td>\n",
       "      <td>3</td>\n",
       "      <td>no</td>\n",
       "      <td>southeast</td>\n",
       "      <td>4449.46200</td>\n",
       "    </tr>\n",
       "    <tr>\n",
       "      <th>3</th>\n",
       "      <td>33</td>\n",
       "      <td>male</td>\n",
       "      <td>22.705</td>\n",
       "      <td>0</td>\n",
       "      <td>no</td>\n",
       "      <td>northwest</td>\n",
       "      <td>21984.47061</td>\n",
       "    </tr>\n",
       "    <tr>\n",
       "      <th>4</th>\n",
       "      <td>32</td>\n",
       "      <td>male</td>\n",
       "      <td>28.880</td>\n",
       "      <td>0</td>\n",
       "      <td>no</td>\n",
       "      <td>northwest</td>\n",
       "      <td>3866.85520</td>\n",
       "    </tr>\n",
       "  </tbody>\n",
       "</table>\n",
       "</div>"
      ],
      "text/plain": [
       "   age     sex     bmi  children smoker     region      charges\n",
       "0   19  female  27.900         0    yes  southwest  16884.92400\n",
       "1   18    male  33.770         1     no  southeast   1725.55230\n",
       "2   28    male  33.000         3     no  southeast   4449.46200\n",
       "3   33    male  22.705         0     no  northwest  21984.47061\n",
       "4   32    male  28.880         0     no  northwest   3866.85520"
      ]
     },
     "execution_count": 2,
     "metadata": {},
     "output_type": "execute_result"
    }
   ],
   "source": [
    "data = pd.read_csv(\"insurance.csv\")\n",
    "data.head()"
   ]
  },
  {
   "cell_type": "code",
   "execution_count": 3,
   "id": "3f2169fa",
   "metadata": {},
   "outputs": [],
   "source": [
    "x = data[\"age\"].values.reshape(-1,1)\n",
    "y = data['charges'].values.reshape(-1,1)"
   ]
  },
  {
   "cell_type": "markdown",
   "id": "d527dbea",
   "metadata": {},
   "source": [
    "## Splitting the dataset into the Training set and Test set"
   ]
  },
  {
   "cell_type": "code",
   "execution_count": 4,
   "id": "8c391e43",
   "metadata": {},
   "outputs": [],
   "source": [
    "from sklearn.model_selection import train_test_split\n",
    "x_train, x_test, y_train, y_test = train_test_split(x, y, test_size = 0.1, random_state = 0)"
   ]
  },
  {
   "cell_type": "markdown",
   "id": "1cbb093e",
   "metadata": {},
   "source": [
    "## Training the SimpleLinear Regression model on the Training set"
   ]
  },
  {
   "cell_type": "code",
   "execution_count": 5,
   "id": "cadddf8b",
   "metadata": {},
   "outputs": [
    {
     "data": {
      "text/plain": [
       "LinearRegression()"
      ]
     },
     "execution_count": 5,
     "metadata": {},
     "output_type": "execute_result"
    }
   ],
   "source": [
    "from sklearn.linear_model import LinearRegression\n",
    "regressor = LinearRegression()\n",
    "regressor.fit(x_train,y_train)"
   ]
  },
  {
   "cell_type": "markdown",
   "id": "dfe5877c",
   "metadata": {},
   "source": [
    "## Predicting the Test set results"
   ]
  },
  {
   "cell_type": "code",
   "execution_count": 20,
   "id": "a7f84400",
   "metadata": {},
   "outputs": [
    {
     "name": "stdout",
     "output_type": "stream",
     "text": [
      "[[16274.65  9724.53]\n",
      " [15019.95  8547.69]\n",
      " [15270.89 45702.02]\n",
      " [18533.11 12950.07]\n",
      " [16023.71  9644.25]\n",
      " [11757.72  4500.34]\n",
      " [ 7742.68  2198.19]\n",
      " [16023.71 11436.74]\n",
      " [12761.49  7537.16]\n",
      " [11004.9   5425.02]\n",
      " [11757.72  6753.04]\n",
      " [15772.77 10493.95]\n",
      " [14016.19  7337.75]\n",
      " [11506.78  4185.1 ]\n",
      " [10001.14 18310.74]\n",
      " [15772.77 10702.64]\n",
      " [18282.17 12523.6 ]\n",
      " [ 9750.2   3490.55]\n",
      " [12761.49  6457.84]\n",
      " [ 8244.56 33475.82]\n",
      " [16023.71 23967.38]\n",
      " [17278.41 12643.38]\n",
      " [16274.65 23045.57]\n",
      " [15019.95 23065.42]\n",
      " [ 8746.44  1674.63]\n",
      " [11255.84  4667.61]\n",
      " [10252.08  3732.63]\n",
      " [13263.37  7682.67]\n",
      " [11004.9   3756.62]\n",
      " [14518.07  8413.46]\n",
      " [13263.37  8059.68]\n",
      " [18031.23 48970.25]\n",
      " [18784.05 12979.36]\n",
      " [17027.47 20630.28]\n",
      " [ 9248.32 14571.89]\n",
      " [10753.96  4137.52]\n",
      " [14769.01  8347.16]\n",
      " [10252.08 51194.56]\n",
      " [13263.37 40003.33]\n",
      " [ 8244.56  1880.49]\n",
      " [12259.61  5458.05]\n",
      " [10503.02  2867.12]\n",
      " [13012.43 20149.32]\n",
      " [17780.29 47496.49]\n",
      " [ 7742.68 36149.48]\n",
      " [ 8495.5  26018.95]\n",
      " [15772.77 19749.38]\n",
      " [13765.25  6940.91]\n",
      " [10753.96  4718.2 ]\n",
      " [17529.35 22192.44]\n",
      " [ 8997.38  2899.49]\n",
      " [ 7993.62 18838.7 ]\n",
      " [15270.89 23568.27]\n",
      " [16023.71 46255.11]\n",
      " [17780.29 24227.34]\n",
      " [10252.08  3268.85]\n",
      " [ 9750.2   2322.62]\n",
      " [15772.77  8827.21]\n",
      " [14016.19 14478.33]\n",
      " [18282.17 13112.6 ]\n",
      " [ 7993.62  1253.94]\n",
      " [18784.05 46718.16]\n",
      " [18282.17 13919.82]\n",
      " [15772.77  9630.4 ]\n",
      " [15270.89 10736.87]\n",
      " [16023.71  9880.07]\n",
      " [ 7993.62 32548.34]\n",
      " [11004.9  38746.36]\n",
      " [ 8495.5   3180.51]\n",
      " [13263.37  8162.72]\n",
      " [18533.11 13041.92]\n",
      " [17529.35 11554.22]\n",
      " [ 8244.56 16232.85]\n",
      " [19034.99 13887.97]\n",
      " [18282.17 13012.21]\n",
      " [18282.17 13217.09]\n",
      " [14769.01  7147.1 ]\n",
      " [14267.13  7731.43]\n",
      " [12510.55 20296.86]\n",
      " [18533.11 47403.88]\n",
      " [17278.41 11658.38]\n",
      " [14016.19 45863.21]\n",
      " [ 8746.44  2055.32]\n",
      " [14518.07  7441.05]\n",
      " [14016.19 41034.22]\n",
      " [11757.72 18972.49]\n",
      " [ 9750.2   3410.32]\n",
      " [ 9750.2   2699.57]\n",
      " [18031.23 12333.83]\n",
      " [10753.96 36837.47]\n",
      " [11255.84  6334.34]\n",
      " [17027.47 10214.64]\n",
      " [ 9499.26 17878.9 ]\n",
      " [14518.07  8515.76]\n",
      " [11757.72  4518.83]\n",
      " [11255.84  5148.55]\n",
      " [17027.47 42303.69]\n",
      " [14267.13 38998.55]\n",
      " [11004.9   5327.4 ]\n",
      " [17278.41 10602.39]\n",
      " [ 8997.38  1824.29]\n",
      " [12259.61  5377.46]\n",
      " [10252.08  4349.46]\n",
      " [12259.61 37742.58]\n",
      " [13765.25 32787.46]\n",
      " [10001.14  3353.47]\n",
      " [17278.41 10577.09]\n",
      " [10252.08  3556.92]\n",
      " [17780.29 11944.59]\n",
      " [18282.17 52590.83]\n",
      " [16776.53 12475.35]\n",
      " [10753.96  4266.17]\n",
      " [15270.89  9249.5 ]\n",
      " [ 7742.68 33732.69]\n",
      " [17529.35 48675.52]\n",
      " [13765.25  7729.65]\n",
      " [ 8244.56  1964.78]\n",
      " [15772.77  8444.47]\n",
      " [18031.23 12347.17]\n",
      " [14769.01  9301.89]\n",
      " [14016.19 42124.52]\n",
      " [16274.65  9991.04]\n",
      " [19285.93 14319.03]\n",
      " [10753.96  5428.73]\n",
      " [14267.13  7626.99]\n",
      " [10503.02  4906.41]\n",
      " [15019.95 23401.31]\n",
      " [14518.07 21098.55]\n",
      " [18282.17 48173.36]\n",
      " [ 8495.5   1917.32]\n",
      " [14267.13  8219.2 ]\n",
      " [ 7742.68  1725.55]\n",
      " [12761.49  5976.83]\n",
      " [16023.71  9361.33]]\n"
     ]
    }
   ],
   "source": [
    "y_pred = regressor.predict(x_test)\n",
    "np.set_printoptions(precision=2)\n",
    "print(np.concatenate((y_pred.reshape(len(y_pred),1), y_test.reshape(len(y_test),1)),1))"
   ]
  },
  {
   "cell_type": "markdown",
   "id": "13eca1c6",
   "metadata": {},
   "source": [
    "## Visualising The Train Set Results"
   ]
  },
  {
   "cell_type": "code",
   "execution_count": 7,
   "id": "cdad9a7a",
   "metadata": {},
   "outputs": [
    {
     "data": {
      "image/png": "[encoded data removed]",
      "text/plain": [
       "<Figure size 432x288 with 1 Axes>"
      ]
     },
     "metadata": {
      "needs_background": "dark"
     },
     "output_type": "display_data"
    }
   ],
   "source": [
    "fig = plt.figure()\n",
    "\n",
    "ax = fig.add_subplot()\n",
    "\n",
    "ax.set_xlabel('Age')\n",
    "ax.set_ylabel('Charges')\n",
    "\n",
    "ax.xaxis.label.set_color('cyan')        #setting up X-axis label color to cyan\n",
    "ax.yaxis.label.set_color('cyan')          #setting up Y-axis label color to cyan\n",
    "\n",
    "ax.tick_params(axis='x', colors='white')    #setting up X-axis tick color to white\n",
    "ax.tick_params(axis='y', colors='white')  #setting up Y-axis tick color to white\n",
    "\n",
    "ax.spines['left'].set_color('red')  # setting up Y-axis tick color to red\n",
    "ax.spines['bottom'].set_color('red') # setting up X-axis tick colot to red\n",
    "\n",
    "plt.scatter(x=x_train,y=y_train,color='red')\n",
    "plt.plot(x_train, regressor.predict(x_train), color = 'blue')\n",
    "plt.title('insurance costs',color=\"White\")\n",
    "\n",
    "plt.show()"
   ]
  },
  {
   "cell_type": "markdown",
   "id": "213986a9",
   "metadata": {},
   "source": [
    "## Visualising The Test Set Results"
   ]
  },
  {
   "cell_type": "code",
   "execution_count": 8,
   "id": "815cc2c9",
   "metadata": {},
   "outputs": [
    {
     "data": {
      "image/png": "[encoded data removed]",
      "text/plain": [
       "<Figure size 432x288 with 1 Axes>"
      ]
     },
     "metadata": {
      "needs_background": "dark"
     },
     "output_type": "display_data"
    }
   ],
   "source": [
    "plt.scatter(x_test, y_test, color = 'brown')\n",
    "plt.plot(x_train, regressor.predict(x_train), color = 'blue')\n",
    "plt.title('Insurance costs',color='white')\n",
    "plt.xlabel('Age',color=\"white\")\n",
    "plt.ylabel('Charges',color=\"white\")\n",
    "plt.xticks(color=\"white\")\n",
    "plt.yticks(color=\"white\")\n",
    "plt.show()"
   ]
  },
  {
   "cell_type": "markdown",
   "id": "a36551cf",
   "metadata": {},
   "source": [
    "## Evaluating the Model Performance"
   ]
  },
  {
   "cell_type": "code",
   "execution_count": 21,
   "id": "d3b9b7d7",
   "metadata": {},
   "outputs": [
    {
     "data": {
      "text/plain": [
       "0.061433180578732594"
      ]
     },
     "execution_count": 21,
     "metadata": {},
     "output_type": "execute_result"
    }
   ],
   "source": [
    "from sklearn.metrics import r2_score\n",
    "r2_score(y_test,y_pred)"
   ]
  },
  {
   "cell_type": "code",
   "execution_count": 22,
   "id": "03be325e",
   "metadata": {},
   "outputs": [
    {
     "data": {
      "text/plain": [
       "array([[ 8244.56],\n",
       "       [10753.96],\n",
       "       [18282.17]])"
      ]
     },
     "execution_count": 22,
     "metadata": {},
     "output_type": "execute_result"
    }
   ],
   "source": [
    "regressor.predict([[20],\n",
    "                   [30],\n",
    "                   [60]])"
   ]
  },
  {
   "cell_type": "code",
   "execution_count": 11,
   "id": "d2fb21b4",
   "metadata": {},
   "outputs": [],
   "source": [
    "obj_column = list(data.select_dtypes(['object']).columns)"
   ]
  },
  {
   "cell_type": "code",
   "execution_count": 15,
   "id": "9bfd328a",
   "metadata": {},
   "outputs": [
    {
     "data": {
      "text/html": [
       "<div>\n",
       "<style scoped>\n",
       "    .dataframe tbody tr th:only-of-type {\n",
       "        vertical-align: middle;\n",
       "    }\n",
       "\n",
       "    .dataframe tbody tr th {\n",
       "        vertical-align: top;\n",
       "    }\n",
       "\n",
       "    .dataframe thead th {\n",
       "        text-align: right;\n",
       "    }\n",
       "</style>\n",
       "<table border=\"1\" class=\"dataframe\">\n",
       "  <thead>\n",
       "    <tr style=\"text-align: right;\">\n",
       "      <th></th>\n",
       "      <th>sex_female</th>\n",
       "      <th>sex_male</th>\n",
       "      <th>smoker_no</th>\n",
       "      <th>smoker_yes</th>\n",
       "      <th>region_northeast</th>\n",
       "      <th>region_northwest</th>\n",
       "      <th>region_southeast</th>\n",
       "      <th>region_southwest</th>\n",
       "      <th>age</th>\n",
       "      <th>bmi</th>\n",
       "      <th>children</th>\n",
       "      <th>charges</th>\n",
       "    </tr>\n",
       "  </thead>\n",
       "  <tbody>\n",
       "    <tr>\n",
       "      <th>0</th>\n",
       "      <td>1</td>\n",
       "      <td>0</td>\n",
       "      <td>0</td>\n",
       "      <td>1</td>\n",
       "      <td>0</td>\n",
       "      <td>0</td>\n",
       "      <td>0</td>\n",
       "      <td>1</td>\n",
       "      <td>19</td>\n",
       "      <td>27.900</td>\n",
       "      <td>0</td>\n",
       "      <td>16884.92400</td>\n",
       "    </tr>\n",
       "    <tr>\n",
       "      <th>1</th>\n",
       "      <td>0</td>\n",
       "      <td>1</td>\n",
       "      <td>1</td>\n",
       "      <td>0</td>\n",
       "      <td>0</td>\n",
       "      <td>0</td>\n",
       "      <td>1</td>\n",
       "      <td>0</td>\n",
       "      <td>18</td>\n",
       "      <td>33.770</td>\n",
       "      <td>1</td>\n",
       "      <td>1725.55230</td>\n",
       "    </tr>\n",
       "    <tr>\n",
       "      <th>2</th>\n",
       "      <td>0</td>\n",
       "      <td>1</td>\n",
       "      <td>1</td>\n",
       "      <td>0</td>\n",
       "      <td>0</td>\n",
       "      <td>0</td>\n",
       "      <td>1</td>\n",
       "      <td>0</td>\n",
       "      <td>28</td>\n",
       "      <td>33.000</td>\n",
       "      <td>3</td>\n",
       "      <td>4449.46200</td>\n",
       "    </tr>\n",
       "    <tr>\n",
       "      <th>3</th>\n",
       "      <td>0</td>\n",
       "      <td>1</td>\n",
       "      <td>1</td>\n",
       "      <td>0</td>\n",
       "      <td>0</td>\n",
       "      <td>1</td>\n",
       "      <td>0</td>\n",
       "      <td>0</td>\n",
       "      <td>33</td>\n",
       "      <td>22.705</td>\n",
       "      <td>0</td>\n",
       "      <td>21984.47061</td>\n",
       "    </tr>\n",
       "    <tr>\n",
       "      <th>4</th>\n",
       "      <td>0</td>\n",
       "      <td>1</td>\n",
       "      <td>1</td>\n",
       "      <td>0</td>\n",
       "      <td>0</td>\n",
       "      <td>1</td>\n",
       "      <td>0</td>\n",
       "      <td>0</td>\n",
       "      <td>32</td>\n",
       "      <td>28.880</td>\n",
       "      <td>0</td>\n",
       "      <td>3866.85520</td>\n",
       "    </tr>\n",
       "  </tbody>\n",
       "</table>\n",
       "</div>"
      ],
      "text/plain": [
       "   sex_female  sex_male  smoker_no  smoker_yes  region_northeast  \\\n",
       "0           1         0          0           1                 0   \n",
       "1           0         1          1           0                 0   \n",
       "2           0         1          1           0                 0   \n",
       "3           0         1          1           0                 0   \n",
       "4           0         1          1           0                 0   \n",
       "\n",
       "   region_northwest  region_southeast  region_southwest  age     bmi  \\\n",
       "0                 0                 0                 1   19  27.900   \n",
       "1                 0                 1                 0   18  33.770   \n",
       "2                 0                 1                 0   28  33.000   \n",
       "3                 1                 0                 0   33  22.705   \n",
       "4                 1                 0                 0   32  28.880   \n",
       "\n",
       "   children      charges  \n",
       "0         0  16884.92400  \n",
       "1         1   1725.55230  \n",
       "2         3   4449.46200  \n",
       "3         0  21984.47061  \n",
       "4         0   3866.85520  "
      ]
     },
     "execution_count": 15,
     "metadata": {},
     "output_type": "execute_result"
    }
   ],
   "source": [
    "data_encoded = pd.get_dummies(data=data,columns=obj_column)\n",
    "data_encoded = data_encoded[[\"sex_female\",'sex_male','smoker_no','smoker_yes',\\\n",
    "                             'region_northeast','region_northwest','region_southeast',\\\n",
    "                             'region_southwest','age','bmi','children','charges']]\n",
    "data_encoded.head()"
   ]
  },
  {
   "cell_type": "code",
   "execution_count": null,
   "id": "81202666",
   "metadata": {},
   "outputs": [],
   "source": []
  }
 ],
 "metadata": {
  "kernelspec": {
   "display_name": "Python 3 (ipykernel)",
   "language": "python",
   "name": "python3"
  },
  "language_info": {
   "codemirror_mode": {
    "name": "ipython",
    "version": 3
   },
   "file_extension": ".py",
   "mimetype": "text/x-python",
   "name": "python",
   "nbconvert_exporter": "python",
   "pygments_lexer": "ipython3",
   "version": "3.8.12"
  }
 },
 "nbformat": 4,
 "nbformat_minor": 5
}
