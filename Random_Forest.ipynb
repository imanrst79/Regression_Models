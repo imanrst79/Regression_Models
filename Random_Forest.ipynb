{
 "cells": [
  {
   "cell_type": "markdown",
   "id": "7a7d0a3f",
   "metadata": {},
   "source": [
    "# Random Forest Regression"
   ]
  },
  {
   "cell_type": "markdown",
   "id": "17b12cd7",
   "metadata": {},
   "source": [
    "## Importing The Library"
   ]
  },
  {
   "cell_type": "code",
   "execution_count": 14,
   "id": "ac39cc1e",
   "metadata": {},
   "outputs": [],
   "source": [
    "import numpy as np\n",
    "import pandas as pd\n",
    "import matplotlib.pyplot as plt\n",
    "import seaborn as sns\n",
    "import sklearn as sk"
   ]
  },
  {
   "cell_type": "markdown",
   "id": "c62b7df1",
   "metadata": {},
   "source": [
    "## Importing The DataSet"
   ]
  },
  {
   "cell_type": "code",
   "execution_count": 15,
   "id": "3847641e",
   "metadata": {},
   "outputs": [
    {
     "data": {
      "text/html": [
       "<div>\n",
       "<style scoped>\n",
       "    .dataframe tbody tr th:only-of-type {\n",
       "        vertical-align: middle;\n",
       "    }\n",
       "\n",
       "    .dataframe tbody tr th {\n",
       "        vertical-align: top;\n",
       "    }\n",
       "\n",
       "    .dataframe thead th {\n",
       "        text-align: right;\n",
       "    }\n",
       "</style>\n",
       "<table border=\"1\" class=\"dataframe\">\n",
       "  <thead>\n",
       "    <tr style=\"text-align: right;\">\n",
       "      <th></th>\n",
       "      <th>age</th>\n",
       "      <th>sex</th>\n",
       "      <th>bmi</th>\n",
       "      <th>children</th>\n",
       "      <th>smoker</th>\n",
       "      <th>region</th>\n",
       "      <th>charges</th>\n",
       "    </tr>\n",
       "  </thead>\n",
       "  <tbody>\n",
       "    <tr>\n",
       "      <th>0</th>\n",
       "      <td>19</td>\n",
       "      <td>female</td>\n",
       "      <td>27.900</td>\n",
       "      <td>0</td>\n",
       "      <td>yes</td>\n",
       "      <td>southwest</td>\n",
       "      <td>16884.92400</td>\n",
       "    </tr>\n",
       "    <tr>\n",
       "      <th>1</th>\n",
       "      <td>18</td>\n",
       "      <td>male</td>\n",
       "      <td>33.770</td>\n",
       "      <td>1</td>\n",
       "      <td>no</td>\n",
       "      <td>southeast</td>\n",
       "      <td>1725.55230</td>\n",
       "    </tr>\n",
       "    <tr>\n",
       "      <th>2</th>\n",
       "      <td>28</td>\n",
       "      <td>male</td>\n",
       "      <td>33.000</td>\n",
       "      <td>3</td>\n",
       "      <td>no</td>\n",
       "      <td>southeast</td>\n",
       "      <td>4449.46200</td>\n",
       "    </tr>\n",
       "    <tr>\n",
       "      <th>3</th>\n",
       "      <td>33</td>\n",
       "      <td>male</td>\n",
       "      <td>22.705</td>\n",
       "      <td>0</td>\n",
       "      <td>no</td>\n",
       "      <td>northwest</td>\n",
       "      <td>21984.47061</td>\n",
       "    </tr>\n",
       "    <tr>\n",
       "      <th>4</th>\n",
       "      <td>32</td>\n",
       "      <td>male</td>\n",
       "      <td>28.880</td>\n",
       "      <td>0</td>\n",
       "      <td>no</td>\n",
       "      <td>northwest</td>\n",
       "      <td>3866.85520</td>\n",
       "    </tr>\n",
       "  </tbody>\n",
       "</table>\n",
       "</div>"
      ],
      "text/plain": [
       "   age     sex     bmi  children smoker     region      charges\n",
       "0   19  female  27.900         0    yes  southwest  16884.92400\n",
       "1   18    male  33.770         1     no  southeast   1725.55230\n",
       "2   28    male  33.000         3     no  southeast   4449.46200\n",
       "3   33    male  22.705         0     no  northwest  21984.47061\n",
       "4   32    male  28.880         0     no  northwest   3866.85520"
      ]
     },
     "execution_count": 15,
     "metadata": {},
     "output_type": "execute_result"
    }
   ],
   "source": [
    "data = pd.read_csv(\"insurance.csv\")\n",
    "data.head()"
   ]
  },
  {
   "cell_type": "markdown",
   "id": "f18f2638",
   "metadata": {},
   "source": [
    "## Encoding categorical data"
   ]
  },
  {
   "cell_type": "code",
   "execution_count": 16,
   "id": "eb5ddb48",
   "metadata": {},
   "outputs": [
    {
     "data": {
      "text/html": [
       "<div>\n",
       "<style scoped>\n",
       "    .dataframe tbody tr th:only-of-type {\n",
       "        vertical-align: middle;\n",
       "    }\n",
       "\n",
       "    .dataframe tbody tr th {\n",
       "        vertical-align: top;\n",
       "    }\n",
       "\n",
       "    .dataframe thead th {\n",
       "        text-align: right;\n",
       "    }\n",
       "</style>\n",
       "<table border=\"1\" class=\"dataframe\">\n",
       "  <thead>\n",
       "    <tr style=\"text-align: right;\">\n",
       "      <th></th>\n",
       "      <th>sex_female</th>\n",
       "      <th>sex_male</th>\n",
       "      <th>smoker_no</th>\n",
       "      <th>smoker_yes</th>\n",
       "      <th>region_northeast</th>\n",
       "      <th>region_northwest</th>\n",
       "      <th>region_southeast</th>\n",
       "      <th>region_southwest</th>\n",
       "      <th>age</th>\n",
       "      <th>bmi</th>\n",
       "      <th>children</th>\n",
       "      <th>charges</th>\n",
       "    </tr>\n",
       "  </thead>\n",
       "  <tbody>\n",
       "    <tr>\n",
       "      <th>0</th>\n",
       "      <td>1</td>\n",
       "      <td>0</td>\n",
       "      <td>0</td>\n",
       "      <td>1</td>\n",
       "      <td>0</td>\n",
       "      <td>0</td>\n",
       "      <td>0</td>\n",
       "      <td>1</td>\n",
       "      <td>19</td>\n",
       "      <td>27.900</td>\n",
       "      <td>0</td>\n",
       "      <td>16884.92400</td>\n",
       "    </tr>\n",
       "    <tr>\n",
       "      <th>1</th>\n",
       "      <td>0</td>\n",
       "      <td>1</td>\n",
       "      <td>1</td>\n",
       "      <td>0</td>\n",
       "      <td>0</td>\n",
       "      <td>0</td>\n",
       "      <td>1</td>\n",
       "      <td>0</td>\n",
       "      <td>18</td>\n",
       "      <td>33.770</td>\n",
       "      <td>1</td>\n",
       "      <td>1725.55230</td>\n",
       "    </tr>\n",
       "    <tr>\n",
       "      <th>2</th>\n",
       "      <td>0</td>\n",
       "      <td>1</td>\n",
       "      <td>1</td>\n",
       "      <td>0</td>\n",
       "      <td>0</td>\n",
       "      <td>0</td>\n",
       "      <td>1</td>\n",
       "      <td>0</td>\n",
       "      <td>28</td>\n",
       "      <td>33.000</td>\n",
       "      <td>3</td>\n",
       "      <td>4449.46200</td>\n",
       "    </tr>\n",
       "    <tr>\n",
       "      <th>3</th>\n",
       "      <td>0</td>\n",
       "      <td>1</td>\n",
       "      <td>1</td>\n",
       "      <td>0</td>\n",
       "      <td>0</td>\n",
       "      <td>1</td>\n",
       "      <td>0</td>\n",
       "      <td>0</td>\n",
       "      <td>33</td>\n",
       "      <td>22.705</td>\n",
       "      <td>0</td>\n",
       "      <td>21984.47061</td>\n",
       "    </tr>\n",
       "    <tr>\n",
       "      <th>4</th>\n",
       "      <td>0</td>\n",
       "      <td>1</td>\n",
       "      <td>1</td>\n",
       "      <td>0</td>\n",
       "      <td>0</td>\n",
       "      <td>1</td>\n",
       "      <td>0</td>\n",
       "      <td>0</td>\n",
       "      <td>32</td>\n",
       "      <td>28.880</td>\n",
       "      <td>0</td>\n",
       "      <td>3866.85520</td>\n",
       "    </tr>\n",
       "  </tbody>\n",
       "</table>\n",
       "</div>"
      ],
      "text/plain": [
       "   sex_female  sex_male  smoker_no  smoker_yes  region_northeast  \\\n",
       "0           1         0          0           1                 0   \n",
       "1           0         1          1           0                 0   \n",
       "2           0         1          1           0                 0   \n",
       "3           0         1          1           0                 0   \n",
       "4           0         1          1           0                 0   \n",
       "\n",
       "   region_northwest  region_southeast  region_southwest  age     bmi  \\\n",
       "0                 0                 0                 1   19  27.900   \n",
       "1                 0                 1                 0   18  33.770   \n",
       "2                 0                 1                 0   28  33.000   \n",
       "3                 1                 0                 0   33  22.705   \n",
       "4                 1                 0                 0   32  28.880   \n",
       "\n",
       "   children      charges  \n",
       "0         0  16884.92400  \n",
       "1         1   1725.55230  \n",
       "2         3   4449.46200  \n",
       "3         0  21984.47061  \n",
       "4         0   3866.85520  "
      ]
     },
     "execution_count": 16,
     "metadata": {},
     "output_type": "execute_result"
    }
   ],
   "source": [
    "obj_column = list(data.select_dtypes(['object']).columns)\n",
    "data_encoded = pd.get_dummies(data=data,columns=obj_column)\n",
    "data_encoded = data_encoded[[\"sex_female\",'sex_male','smoker_no','smoker_yes',\\\n",
    "                             'region_northeast','region_northwest','region_southeast',\\\n",
    "                             'region_southwest','age','bmi','children','charges']]\n",
    "data_encoded.head()"
   ]
  },
  {
   "cell_type": "code",
   "execution_count": 17,
   "id": "a5e234ff",
   "metadata": {},
   "outputs": [],
   "source": [
    "x = data_encoded.iloc[:, :-1].values\n",
    "y = data_encoded.iloc[:, -1].values"
   ]
  },
  {
   "cell_type": "markdown",
   "id": "ee94f04f",
   "metadata": {},
   "source": [
    "## Splitting the dataset into the Training set and Test set"
   ]
  },
  {
   "cell_type": "code",
   "execution_count": 18,
   "id": "8c391e43",
   "metadata": {},
   "outputs": [],
   "source": [
    "from sklearn.model_selection import train_test_split\n",
    "x_train, x_test, y_train, y_test = train_test_split(x, y, test_size = 0.1, random_state = 0)"
   ]
  },
  {
   "cell_type": "markdown",
   "id": "1cbb093e",
   "metadata": {},
   "source": [
    "## Training the Random Forest Regression model on the Training set"
   ]
  },
  {
   "cell_type": "code",
   "execution_count": 28,
   "id": "cadddf8b",
   "metadata": {},
   "outputs": [
    {
     "data": {
      "text/plain": [
       "RandomForestRegressor(n_estimators=20, random_state=0)"
      ]
     },
     "execution_count": 28,
     "metadata": {},
     "output_type": "execute_result"
    }
   ],
   "source": [
    "from sklearn.ensemble import RandomForestRegressor\n",
    "regressor = RandomForestRegressor(n_estimators=20,random_state=0)\n",
    "regressor.fit(x_train,y_train)"
   ]
  },
  {
   "cell_type": "markdown",
   "id": "dfe5877c",
   "metadata": {},
   "source": [
    "## Predicting the Test set results"
   ]
  },
  {
   "cell_type": "code",
   "execution_count": 29,
   "id": "a7f84400",
   "metadata": {},
   "outputs": [
    {
     "name": "stdout",
     "output_type": "stream",
     "text": [
      "[[ 9929.89  9724.53]\n",
      " [10572.22  8547.69]\n",
      " [44175.83 45702.02]\n",
      " [12996.47 12950.07]\n",
      " [ 9365.03  9644.25]\n",
      " [10605.6   4500.34]\n",
      " [ 2400.51  2198.19]\n",
      " [10628.46 11436.74]\n",
      " [ 7891.12  7537.16]\n",
      " [ 5211.12  5425.02]\n",
      " [10647.08  6753.04]\n",
      " [17226.28 10493.95]\n",
      " [ 9788.23  7337.75]\n",
      " [ 5483.3   4185.1 ]\n",
      " [23498.82 18310.74]\n",
      " [11862.49 10702.64]\n",
      " [16639.42 12523.6 ]\n",
      " [12221.81  3490.55]\n",
      " [ 7003.5   6457.84]\n",
      " [34019.22 33475.82]\n",
      " [23472.91 23967.38]\n",
      " [12500.78 12643.38]\n",
      " [10158.2  23045.57]\n",
      " [28014.96 23065.42]\n",
      " [ 4704.53  1674.63]\n",
      " [ 9248.9   4667.61]\n",
      " [ 7166.39  3732.63]\n",
      " [ 9693.27  7682.67]\n",
      " [ 3761.62  3756.62]\n",
      " [12575.93  8413.46]\n",
      " [ 7408.85  8059.68]\n",
      " [48057.68 48970.25]\n",
      " [14091.1  12979.36]\n",
      " [11679.56 20630.28]\n",
      " [14849.7  14571.89]\n",
      " [ 3666.96  4137.52]\n",
      " [ 9167.23  8347.16]\n",
      " [37663.1  51194.56]\n",
      " [40575.15 40003.33]\n",
      " [ 8069.94  1880.49]\n",
      " [ 9645.89  5458.05]\n",
      " [ 3213.46  2867.12]\n",
      " [21222.44 20149.32]\n",
      " [46375.4  47496.49]\n",
      " [36775.72 36149.48]\n",
      " [ 8419.92 26018.95]\n",
      " [11862.49 19749.38]\n",
      " [ 6783.83  6940.91]\n",
      " [ 9539.03  4718.2 ]\n",
      " [12595.79 22192.44]\n",
      " [ 6985.41  2899.49]\n",
      " [16535.36 18838.7 ]\n",
      " [28036.23 23568.27]\n",
      " [45572.89 46255.11]\n",
      " [11671.43 24227.34]\n",
      " [10284.63  3268.85]\n",
      " [ 2430.59  2322.62]\n",
      " [12067.4   8827.21]\n",
      " [10576.9  14478.33]\n",
      " [17032.51 13112.6 ]\n",
      " [ 2404.42  1253.94]\n",
      " [46640.36 46718.16]\n",
      " [17091.78 13919.82]\n",
      " [10911.45  9630.4 ]\n",
      " [17191.14 10736.87]\n",
      " [ 9734.91  9880.07]\n",
      " [33868.77 32548.34]\n",
      " [45807.08 38746.36]\n",
      " [ 7359.67  3180.51]\n",
      " [10531.04  8162.72]\n",
      " [16983.57 13041.92]\n",
      " [11587.49 11554.22]\n",
      " [17886.76 16232.85]\n",
      " [13767.62 13887.97]\n",
      " [17680.15 13012.21]\n",
      " [19175.82 13217.09]\n",
      " [ 9829.7   7147.1 ]\n",
      " [ 8331.96  7731.43]\n",
      " [19781.42 20296.86]\n",
      " [48320.27 47403.88]\n",
      " [11613.37 11658.38]\n",
      " [49067.21 45863.21]\n",
      " [ 2061.41  2055.32]\n",
      " [ 8163.64  7441.05]\n",
      " [41059.32 41034.22]\n",
      " [19841.9  18972.49]\n",
      " [ 3716.1   3410.32]\n",
      " [ 3240.14  2699.57]\n",
      " [13924.71 12333.83]\n",
      " [39000.54 36837.47]\n",
      " [ 9366.43  6334.34]\n",
      " [11689.08 10214.64]\n",
      " [ 5806.68 17878.9 ]\n",
      " [10552.95  8515.76]\n",
      " [ 8142.51  4518.83]\n",
      " [ 9362.1   5148.55]\n",
      " [42627.15 42303.69]\n",
      " [56146.16 38998.55]\n",
      " [ 6650.17  5327.4 ]\n",
      " [12368.99 10602.39]\n",
      " [ 3166.75  1824.29]\n",
      " [ 5549.54  5377.46]\n",
      " [ 5069.8   4349.46]\n",
      " [39855.72 37742.58]\n",
      " [26653.68 32787.46]\n",
      " [ 3243.75  3353.47]\n",
      " [10982.71 10577.09]\n",
      " [ 9864.43  3556.92]\n",
      " [12774.85 11944.59]\n",
      " [45960.83 52590.83]\n",
      " [13085.57 12475.35]\n",
      " [ 5311.65  4266.17]\n",
      " [ 9038.97  9249.5 ]\n",
      " [34590.57 33732.69]\n",
      " [46783.93 48675.52]\n",
      " [ 7403.79  7729.65]\n",
      " [ 1897.84  1964.78]\n",
      " [11628.94  8444.47]\n",
      " [23599.98 12347.17]\n",
      " [ 9557.98  9301.89]\n",
      " [42036.32 42124.52]\n",
      " [10801.4   9991.04]\n",
      " [14433.45 14319.03]\n",
      " [ 9631.25  5428.73]\n",
      " [ 8628.6   7626.99]\n",
      " [ 7030.    4906.41]\n",
      " [26742.65 23401.31]\n",
      " [27836.46 21098.55]\n",
      " [48312.43 48173.36]\n",
      " [ 1779.65  1917.32]\n",
      " [11018.18  8219.2 ]\n",
      " [ 3512.42  1725.55]\n",
      " [ 6044.26  5976.83]\n",
      " [ 9292.05  9361.33]]\n"
     ]
    }
   ],
   "source": [
    "y_pred = regressor.predict(x_test)\n",
    "np.set_printoptions(precision=2)\n",
    "print(np.concatenate((y_pred.reshape(len(y_pred),1), y_test.reshape(len(y_test),1)),1))"
   ]
  },
  {
   "cell_type": "markdown",
   "id": "a36551cf",
   "metadata": {},
   "source": [
    "## Evaluating the Model Performance"
   ]
  },
  {
   "cell_type": "code",
   "execution_count": 30,
   "id": "d3b9b7d7",
   "metadata": {},
   "outputs": [
    {
     "data": {
      "text/plain": [
       "0.8968649606488012"
      ]
     },
     "execution_count": 30,
     "metadata": {},
     "output_type": "execute_result"
    }
   ],
   "source": [
    "from sklearn.metrics import r2_score\n",
    "r2_score(y_test,y_pred)"
   ]
  },
  {
   "cell_type": "code",
   "execution_count": 31,
   "id": "03be325e",
   "metadata": {},
   "outputs": [
    {
     "data": {
      "text/plain": [
       "array([17013.85])"
      ]
     },
     "execution_count": 31,
     "metadata": {},
     "output_type": "execute_result"
    }
   ],
   "source": [
    "regressor.predict([[1,0,0,1,1,0,1,1,25,26,3]])"
   ]
  },
  {
   "cell_type": "code",
   "execution_count": null,
   "id": "f7564fd6",
   "metadata": {},
   "outputs": [],
   "source": []
  }
 ],
 "metadata": {
  "kernelspec": {
   "display_name": "Python 3 (ipykernel)",
   "language": "python",
   "name": "python3"
  },
  "language_info": {
   "codemirror_mode": {
    "name": "ipython",
    "version": 3
   },
   "file_extension": ".py",
   "mimetype": "text/x-python",
   "name": "python",
   "nbconvert_exporter": "python",
   "pygments_lexer": "ipython3",
   "version": "3.8.12"
  }
 },
 "nbformat": 4,
 "nbformat_minor": 5
}
